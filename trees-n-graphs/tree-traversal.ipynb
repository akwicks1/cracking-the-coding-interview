{
 "cells": [
  {
   "cell_type": "code",
   "execution_count": 101,
   "metadata": {},
   "outputs": [],
   "source": [
    "class Node(object):\n",
    "    \n",
    "    def __init__(self, data, left, right):\n",
    "        self.data = data\n",
    "        self.child_left = left\n",
    "        self.child_right = right\n",
    "        \n",
    "def in_order_traversal(node):\n",
    "    if node:\n",
    "        in_order_traversal(node.child_left)\n",
    "        print node.data\n",
    "        in_order_traversal(node.child_right)\n",
    "    \n",
    "\n",
    "def pre_order_traversal(node):\n",
    "    if node:\n",
    "        print node.data\n",
    "        pre_order_traversal(node.child_left)\n",
    "        pre_order_traversal(node.child_right)\n",
    "        \n",
    "def post_order_traversal(node):\n",
    "    if node: \n",
    "        post_order_traversal(node.child_left)\n",
    "        post_order_traversal(node.child_right)\n",
    "        print node.data"
   ]
  },
  {
   "cell_type": "code",
   "execution_count": 40,
   "metadata": {
    "collapsed": true
   },
   "outputs": [],
   "source": [
    "class Tree(object):\n",
    "    \n",
    "    def __init__(self, root):\n",
    "        self.root = root\n",
    "        "
   ]
  },
  {
   "cell_type": "code",
   "execution_count": 102,
   "metadata": {},
   "outputs": [],
   "source": [
    "n1 = Node(\"1\", None, None)\n",
    "n7 = Node(\"7\", None, None)\n",
    "n5 = Node(\"5\", n1, n7)\n",
    "n15 = Node(\"15\", None, None)\n",
    "n30 = Node(\"30\", None, None)\n",
    "n20 = Node(\"20\", n15, n30)\n",
    "n10 = Node(\"10\", n5, n20)"
   ]
  },
  {
   "cell_type": "code",
   "execution_count": 103,
   "metadata": {},
   "outputs": [],
   "source": [
    "t = Tree(n10)"
   ]
  },
  {
   "cell_type": "code",
   "execution_count": 49,
   "metadata": {},
   "outputs": [
    {
     "data": {
      "text/plain": [
       "<__main__.Node at 0x104d14490>"
      ]
     },
     "execution_count": 49,
     "metadata": {},
     "output_type": "execute_result"
    }
   ],
   "source": [
    "t.root"
   ]
  },
  {
   "cell_type": "code",
   "execution_count": 93,
   "metadata": {},
   "outputs": [
    {
     "name": "stdout",
     "output_type": "stream",
     "text": [
      "1\n",
      "5\n",
      "7\n",
      "10\n",
      "15\n",
      "20\n",
      "30\n"
     ]
    }
   ],
   "source": [
    "in_order_traversal(t.root)"
   ]
  },
  {
   "cell_type": "code",
   "execution_count": 94,
   "metadata": {},
   "outputs": [
    {
     "name": "stdout",
     "output_type": "stream",
     "text": [
      "10\n",
      "5\n",
      "1\n",
      "7\n",
      "20\n",
      "15\n",
      "30\n"
     ]
    }
   ],
   "source": [
    "pre_order_traversal(t.root)"
   ]
  },
  {
   "cell_type": "code",
   "execution_count": 104,
   "metadata": {},
   "outputs": [
    {
     "name": "stdout",
     "output_type": "stream",
     "text": [
      "1\n",
      "7\n",
      "5\n",
      "15\n",
      "30\n",
      "20\n",
      "10\n"
     ]
    }
   ],
   "source": [
    "post_order_traversal(t.root)"
   ]
  },
  {
   "cell_type": "code",
   "execution_count": null,
   "metadata": {
    "collapsed": true
   },
   "outputs": [],
   "source": []
  }
 ],
 "metadata": {
  "kernelspec": {
   "display_name": "Python 2",
   "language": "python",
   "name": "python2"
  },
  "language_info": {
   "codemirror_mode": {
    "name": "ipython",
    "version": 2
   },
   "file_extension": ".py",
   "mimetype": "text/x-python",
   "name": "python",
   "nbconvert_exporter": "python",
   "pygments_lexer": "ipython2",
   "version": "2.7.10"
  }
 },
 "nbformat": 4,
 "nbformat_minor": 2
}

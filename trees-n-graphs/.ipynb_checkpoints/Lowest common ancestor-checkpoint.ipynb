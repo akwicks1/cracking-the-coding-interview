{
 "cells": [
  {
   "cell_type": "code",
   "execution_count": 1,
   "metadata": {
    "collapsed": true
   },
   "outputs": [],
   "source": [
    "class Node(object):\n",
    "    \"\"\"Node in a tree.\"\"\"\n",
    "\n",
    "    def __init__(self, data, children):\n",
    "        self.data = data\n",
    "        self.children = children\n",
    "\n",
    "    def __repr__(self):\n",
    "        \"\"\"Reader-friendly representation.\"\"\"\n",
    "\n",
    "        return \"<Node %s>\" % self.data"
   ]
  },
  {
   "cell_type": "code",
   "execution_count": 2,
   "metadata": {
    "collapsed": true
   },
   "outputs": [],
   "source": [
    "class Tree(object):\n",
    "    \"\"\"Tree.\"\"\"\n",
    "\n",
    "    def __init__(self, root):\n",
    "        self.root = root\n",
    "\n",
    "    def __repr__(self):\n",
    "        \"\"\"Reader-friendly representation.\"\"\"\n",
    "\n",
    "        return \"<Tree root=%s>\" % self.root"
   ]
  },
  {
   "cell_type": "code",
   "execution_count": 4,
   "metadata": {},
   "outputs": [],
   "source": [
    "resume = Node(\"resume.txt\", [])\n",
    "recipes = Node(\"recipes.txt\", [])\n",
    "jane = Node(\"jane/\", [resume, recipes])\n",
    "server = Node(\"server.py\", [])\n",
    "jessica = Node(\"jessica/\", [server])\n",
    "users = Node(\"Users/\", [jane, jessica])\n",
    "root = Node(\"/\", [users])\n",
    "\n",
    "tree = Tree(root)"
   ]
  },
  {
   "cell_type": "code",
   "execution_count": 36,
   "metadata": {
    "collapsed": true
   },
   "outputs": [],
   "source": [
    "def find_common_ancestor(root, node1, node2, found=set()):\n",
    "    if root == node1:\n",
    "        found.add(1)\n",
    "    elif root == node2:\n",
    "        found.add(2)\n",
    "\n",
    "    for node in root.children:\n",
    "        print \"check: \", node, found\n",
    "\n",
    "        find_common_ancestor(node, node1, node2)\n",
    "        if len(found) == 2:\n",
    "            return root\n",
    "\n",
    "        "
   ]
  },
  {
   "cell_type": "code",
   "execution_count": 37,
   "metadata": {},
   "outputs": [
    {
     "name": "stdout",
     "output_type": "stream",
     "text": [
      "check:  <Node Users/> set([])\n",
      "check:  <Node jane/> set([])\n",
      "check:  <Node resume.txt> set([])\n",
      "check:  <Node recipes.txt> set([1])\n",
      "check:  <Node jessica/> set([1, 2])\n",
      "check:  <Node server.py> set([1, 2])\n",
      "None\n"
     ]
    }
   ],
   "source": [
    "print find_common_ancestor(root, resume, recipes)"
   ]
  },
  {
   "cell_type": "code",
   "execution_count": null,
   "metadata": {
    "collapsed": true
   },
   "outputs": [],
   "source": []
  }
 ],
 "metadata": {
  "kernelspec": {
   "display_name": "Python 2",
   "language": "python",
   "name": "python2"
  },
  "language_info": {
   "codemirror_mode": {
    "name": "ipython",
    "version": 2
   },
   "file_extension": ".py",
   "mimetype": "text/x-python",
   "name": "python",
   "nbconvert_exporter": "python",
   "pygments_lexer": "ipython2",
   "version": "2.7.10"
  }
 },
 "nbformat": 4,
 "nbformat_minor": 2
}

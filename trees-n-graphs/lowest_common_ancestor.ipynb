{
 "cells": [
  {
   "cell_type": "code",
   "execution_count": 38,
   "metadata": {
    "collapsed": true
   },
   "outputs": [],
   "source": [
    "class Node(object):\n",
    "    \"\"\"Node in a tree.\"\"\"\n",
    "\n",
    "    def __init__(self, data, child_left=None, child_right=None):\n",
    "        self.data = data\n",
    "        self.child_left = child_left\n",
    "        self.child_right = child_right\n",
    "\n",
    "    def __repr__(self):\n",
    "        \"\"\"Reader-friendly representation.\"\"\"\n",
    "\n",
    "        return \"<Node %s>\" % self.data"
   ]
  },
  {
   "cell_type": "code",
   "execution_count": 2,
   "metadata": {
    "collapsed": true
   },
   "outputs": [],
   "source": [
    "class Tree(object):\n",
    "    \"\"\"Tree.\"\"\"\n",
    "\n",
    "    def __init__(self, root):\n",
    "        self.root = root\n",
    "\n",
    "    def __repr__(self):\n",
    "        \"\"\"Reader-friendly representation.\"\"\"\n",
    "\n",
    "        return \"<Tree root=%s>\" % self.root"
   ]
  },
  {
   "cell_type": "code",
   "execution_count": 39,
   "metadata": {},
   "outputs": [],
   "source": [
    "resume = Node(\"resume.txt\")\n",
    "recipes = Node(\"recipes.txt\")\n",
    "jane = Node(\"jane/\", resume, recipes)\n",
    "server = Node(\"server.py\")\n",
    "jessica = Node(\"jessica/\", server)\n",
    "users = Node(\"Users/\", jane, jessica)\n",
    "root = Node(\"/\", users)\n",
    "\n",
    "tree = Tree(root)"
   ]
  },
  {
   "cell_type": "code",
   "execution_count": 45,
   "metadata": {},
   "outputs": [],
   "source": [
    "def find_common_ancestor(root, node1, node2):\n",
    "    if not in_subtree(root, node1) or not in_subtree(root, node2):\n",
    "        return\n",
    "    return ancestor_helper(root, node1, node2)\n",
    "\n",
    "\n",
    "def ancestor_helper(root, node1, node2):\n",
    "    if not root or root == node1 or root == node2:\n",
    "        return root\n",
    "    onleft1 = in_subtree(root.child_left, node1)\n",
    "    onleft2 = in_subtree(root.child_left, node2)\n",
    "    if (onleft1 != onleft2):\n",
    "        return root\n",
    "    if onleft1:\n",
    "        return ancestor_helper(root.child_left, node1, node2)\n",
    "    else:\n",
    "        return ancestor_helper(root.child_right, node1, node2)\n",
    "    \n",
    "def in_subtree(root, node):\n",
    "    if not root:\n",
    "        return False\n",
    "    if root == node:\n",
    "        return True\n",
    "    return in_subtree(root.child_left, node) or in_subtree(root.child_right, node)\n",
    "        "
   ]
  },
  {
   "cell_type": "code",
   "execution_count": 46,
   "metadata": {},
   "outputs": [
    {
     "name": "stdout",
     "output_type": "stream",
     "text": [
      "<Node jane/>\n"
     ]
    }
   ],
   "source": [
    "print find_common_ancestor(root, resume, recipes)"
   ]
  },
  {
   "cell_type": "code",
   "execution_count": null,
   "metadata": {
    "collapsed": true
   },
   "outputs": [],
   "source": []
  }
 ],
 "metadata": {
  "kernelspec": {
   "display_name": "Python 2",
   "language": "python",
   "name": "python2"
  },
  "language_info": {
   "codemirror_mode": {
    "name": "ipython",
    "version": 2
   },
   "file_extension": ".py",
   "mimetype": "text/x-python",
   "name": "python",
   "nbconvert_exporter": "python",
   "pygments_lexer": "ipython2",
   "version": "2.7.10"
  }
 },
 "nbformat": 4,
 "nbformat_minor": 2
}
